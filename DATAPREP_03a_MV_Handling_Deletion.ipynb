{
 "cells": [
  {
   "cell_type": "code",
   "execution_count": 1,
   "metadata": {},
   "outputs": [
    {
     "name": "stdout",
     "output_type": "stream",
     "text": [
      "Original data: \n",
      "      0    1  2\n",
      "0  1.0  2.0  0\n",
      "1  NaN  3.0  1\n",
      "2  7.0  6.0  0\n",
      "3  1.0  6.0  0\n",
      "4  NaN  NaN  1\n",
      "5  3.0  NaN  0\n",
      "\n",
      "Listwise deletion\n",
      "Data after deleting rows with missing values: \n",
      "      0    1  2\n",
      "0  1.0  2.0  0\n",
      "2  7.0  6.0  0\n",
      "3  1.0  6.0  0\n",
      "\n",
      "Feature deletion\n",
      "Data after deleting features with missing values: \n",
      "    2\n",
      "0  0\n",
      "1  1\n",
      "2  0\n",
      "3  0\n",
      "4  1\n",
      "5  0\n"
     ]
    }
   ],
   "source": [
    "import pandas as pd\n",
    "import numpy as np\n",
    "from sklearn.impute import SimpleImputer\n",
    "\n",
    "x= pd.DataFrame([[1, 2,0], [np.nan, 3,1], [7, 6,0],[1, 6,0],[np.nan, np.nan,1], [3, np.nan,0]])\n",
    "print(\"Original data: \\n\",x)\n",
    "\n",
    "#Listwise deletion\n",
    "x_deleted_rows=x.dropna()\n",
    "print(\"\\nListwise deletion\")\n",
    "print(\"Data after deleting rows with missing values: \\n\",x_deleted_rows)\n",
    "\n",
    "#Feature deletion\n",
    "x_deleted_columns=x.dropna(axis=1)\n",
    "print(\"\\nFeature deletion\")\n",
    "print(\"Data after deleting features with missing values: \\n\",x_deleted_columns)"
   ]
  },
  {
   "cell_type": "markdown",
   "metadata": {},
   "source": [
    "Calculate the euclidean distances in the presence of missing values.\n",
    "\n",
    "Compute the euclidean distance between each pair of samples in X and Y, where Y=X is assumed if Y=None. When calculating the distance between a pair of samples, this formulation ignores feature coordinates with a missing value in either sample and scales up the weight of the remaining coordinates:\n",
    "\n",
    "dist(x,y) = sqrt(weight * squared distance from present coordinates) where, weight = Total # of coordinates / # of present coordinates\n",
    "\n",
    "Example: dist ([0,1],[1,NaN]) = sqrt(2/1 * (0-1)**2) = sqrt(2)\n",
    "\n",
    "If all the coordinates are missing or if there are no common present coordinates then NaN is returned for that pair."
   ]
  },
  {
   "cell_type": "code",
   "execution_count": 2,
   "metadata": {},
   "outputs": [
    {
     "name": "stdout",
     "output_type": "stream",
     "text": [
      "[[0.         1.41421356 2.82842712]\n",
      " [1.41421356 0.         1.41421356]\n",
      " [2.82842712 1.41421356 0.        ]]\n"
     ]
    }
   ],
   "source": [
    "from sklearn.metrics.pairwise import nan_euclidean_distances\n",
    "nan = float(\"NaN\")\n",
    "#three objects, one with missing values\n",
    "x = [[0, 1], [1, nan],[2,3]]\n",
    "print(nan_euclidean_distances(x, x))"
   ]
  }
 ],
 "metadata": {
  "kernelspec": {
   "display_name": "Python 3 (ipykernel)",
   "language": "python",
   "name": "python3"
  },
  "language_info": {
   "codemirror_mode": {
    "name": "ipython",
    "version": 3
   },
   "file_extension": ".py",
   "mimetype": "text/x-python",
   "name": "python",
   "nbconvert_exporter": "python",
   "pygments_lexer": "ipython3",
   "version": "3.9.7"
  }
 },
 "nbformat": 4,
 "nbformat_minor": 4
}
