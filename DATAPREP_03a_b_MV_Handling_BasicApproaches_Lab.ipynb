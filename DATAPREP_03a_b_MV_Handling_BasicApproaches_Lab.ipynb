{
 "cells": [
  {
   "cell_type": "markdown",
   "metadata": {},
   "source": [
    "# Missing value (MV) handling - the basic approaches\n",
    "\n",
    "Perform listwise deletion and feature deletion on the provided data frame x\n",
    "\n",
    "Reminder:\n",
    "- listwise deletion: All rows containing any MV will be removed\n",
    "- feature deletion: All feature/columns containing any MV will be removed"
   ]
  },
  {
   "cell_type": "code",
   "execution_count": 2,
   "metadata": {},
   "outputs": [
    {
     "name": "stdout",
     "output_type": "stream",
     "text": [
      "Original data: \n",
      "      0    1  2\n",
      "0  1.0  2.0  0\n",
      "1  NaN  3.0  1\n",
      "2  7.0  6.0  0\n",
      "3  1.0  6.0  0\n",
      "4  NaN  NaN  1\n",
      "5  3.0  NaN  0\n",
      "\n",
      "Listwise deletion\n",
      "Data after deleting rows with missing values: \n",
      "      0    1  2\n",
      "0  1.0  2.0  0\n",
      "2  7.0  6.0  0\n",
      "3  1.0  6.0  0\n",
      "\n",
      "Feature deletion\n",
      "Data after deleting features with missing values: \n",
      "    2\n",
      "0  0\n",
      "1  1\n",
      "2  0\n",
      "3  0\n",
      "4  1\n",
      "5  0\n"
     ]
    }
   ],
   "source": [
    "import pandas as pd\n",
    "import numpy as np\n",
    "from sklearn.impute import SimpleImputer\n",
    "\n",
    "x= pd.DataFrame([[1, 2,0], [np.nan, 3,1], [7, 6,0],[1, 6,0],[np.nan, np.nan,1], [3, np.nan,0]])\n",
    "print(\"Original data: \\n\",x)\n",
    "\n",
    "#Listwise deletion\n",
    "\n",
    "\n",
    "#Feature deletion\n"
   ]
  },
  {
   "cell_type": "markdown",
   "metadata": {},
   "source": [
    "Univariate feature imputation\n",
    "\n",
    "Imputes missing values in a feature using only non-missing values in that feature (and no other features)\n",
    "\n",
    "The SimpleImputer class provides basic strategies for imputing missing values. Missing values can be imputed with a provided constant value, or using the statistics (mean, median or most frequent) of each column in which the missing values are located. This class also allows for different missing values encodings.\n",
    "\n",
    "Based on the provided array x, perform average imputation using the SimpleImputer class and applying different strategies:\n",
    "- mean\n",
    "- median\n",
    "- constant\n",
    "- most frequent\n",
    "Fit and transform the data and print the corresponding result for each strategy!"
   ]
  },
  {
   "cell_type": "code",
   "execution_count": 1,
   "metadata": {},
   "outputs": [
    {
     "name": "stdout",
     "output_type": "stream",
     "text": [
      "Original data: \n",
      " [[ 1.  2.]\n",
      " [nan  3.]\n",
      " [ 7.  6.]\n",
      " [ 1.  6.]]\n",
      "Transformed data (mean imputation): \n",
      " [[1. 2.]\n",
      " [3. 3.]\n",
      " [7. 6.]\n",
      " [1. 6.]]\n",
      "Transformed data (median imputation): \n",
      " [[1. 2.]\n",
      " [1. 3.]\n",
      " [7. 6.]\n",
      " [1. 6.]]\n",
      "Transformed data (constant imputation): \n",
      " [[ 1.  2.]\n",
      " [17.  3.]\n",
      " [ 7.  6.]\n",
      " [ 1.  6.]]\n",
      "Transformed data (mostfrequent value imputation): \n",
      " [[1. 2.]\n",
      " [1. 3.]\n",
      " [7. 6.]\n",
      " [1. 6.]]\n"
     ]
    }
   ],
   "source": [
    "import numpy as np\n",
    "from sklearn.impute import SimpleImputer\n",
    "\n",
    "x= np.array([[1, 2], [np.nan, 3], [7, 6],[1, 6]])\n",
    "print(\"Original data: \\n\",x)\n",
    "\n",
    "#Average Imputation using strategy='mean'\n",
    "\n",
    "\n",
    "#Average Imputation using strategy='median'\n",
    "\n",
    "\n",
    "#Average Imputation using strategy='constant'\n",
    "\n",
    "\n",
    "#Average Imputation using strategy='most_frequent'\n"
   ]
  },
  {
   "cell_type": "markdown",
   "metadata": {},
   "source": [
    "Univariate imputation can also be applied to string values.\n",
    "\n",
    "Use the SimpleImputer class again in combination with a \"most frequent\" strategy.\n",
    "\n",
    "You should get the Value Error shown below - and hopefully no other errors ;)\n",
    "\n",
    "Try to fix it!"
   ]
  },
  {
   "cell_type": "code",
   "execution_count": 5,
   "metadata": {},
   "outputs": [
    {
     "name": "stdout",
     "output_type": "stream",
     "text": [
      "Original data: \n",
      " [['Mike' '2']\n",
      " ['nan' '3']\n",
      " ['Peter' '6']\n",
      " ['Peter' '6']]\n"
     ]
    },
    {
     "ename": "ValueError",
     "evalue": "SimpleImputer does not support data with dtype <U5. Please provide either a numeric array (with a floating point or integer dtype) or categorical data represented either as an array with integer dtype or an array of string values with an object dtype.",
     "output_type": "error",
     "traceback": [
      "\u001b[1;31m---------------------------------------------------------------------------\u001b[0m",
      "\u001b[1;31mValueError\u001b[0m                                Traceback (most recent call last)",
      "\u001b[1;32m<ipython-input-5-e82950757835>\u001b[0m in \u001b[0;36m<module>\u001b[1;34m\u001b[0m\n\u001b[0;32m      6\u001b[0m \u001b[1;31m#Average Imputation using strategy='most_frequent'\u001b[0m\u001b[1;33m\u001b[0m\u001b[1;33m\u001b[0m\u001b[1;33m\u001b[0m\u001b[0m\n\u001b[0;32m      7\u001b[0m \u001b[0mimp\u001b[0m \u001b[1;33m=\u001b[0m \u001b[0mSimpleImputer\u001b[0m\u001b[1;33m(\u001b[0m\u001b[0mmissing_values\u001b[0m\u001b[1;33m=\u001b[0m\u001b[0mnp\u001b[0m\u001b[1;33m.\u001b[0m\u001b[0mnan\u001b[0m\u001b[1;33m,\u001b[0m \u001b[0mstrategy\u001b[0m\u001b[1;33m=\u001b[0m\u001b[1;34m'most_frequent'\u001b[0m\u001b[1;33m)\u001b[0m\u001b[1;33m\u001b[0m\u001b[1;33m\u001b[0m\u001b[0m\n\u001b[1;32m----> 8\u001b[1;33m \u001b[0mtransformed_x_string\u001b[0m\u001b[1;33m=\u001b[0m\u001b[0mimp\u001b[0m\u001b[1;33m.\u001b[0m\u001b[0mfit_transform\u001b[0m\u001b[1;33m(\u001b[0m\u001b[0mx_string\u001b[0m\u001b[1;33m)\u001b[0m\u001b[1;33m\u001b[0m\u001b[1;33m\u001b[0m\u001b[0m\n\u001b[0m\u001b[0;32m      9\u001b[0m \u001b[0mprint\u001b[0m\u001b[1;33m(\u001b[0m\u001b[1;34m\"Transformed data (mostfrequent value imputation): \\n\"\u001b[0m\u001b[1;33m,\u001b[0m\u001b[0mtransformed_x_string\u001b[0m\u001b[1;33m)\u001b[0m\u001b[1;33m\u001b[0m\u001b[1;33m\u001b[0m\u001b[0m\n",
      "\u001b[1;32mC:\\Anaconda3\\lib\\site-packages\\sklearn\\base.py\u001b[0m in \u001b[0;36mfit_transform\u001b[1;34m(self, X, y, **fit_params)\u001b[0m\n\u001b[0;32m    569\u001b[0m         \u001b[1;32mif\u001b[0m \u001b[0my\u001b[0m \u001b[1;32mis\u001b[0m \u001b[1;32mNone\u001b[0m\u001b[1;33m:\u001b[0m\u001b[1;33m\u001b[0m\u001b[1;33m\u001b[0m\u001b[0m\n\u001b[0;32m    570\u001b[0m             \u001b[1;31m# fit method of arity 1 (unsupervised transformation)\u001b[0m\u001b[1;33m\u001b[0m\u001b[1;33m\u001b[0m\u001b[1;33m\u001b[0m\u001b[0m\n\u001b[1;32m--> 571\u001b[1;33m             \u001b[1;32mreturn\u001b[0m \u001b[0mself\u001b[0m\u001b[1;33m.\u001b[0m\u001b[0mfit\u001b[0m\u001b[1;33m(\u001b[0m\u001b[0mX\u001b[0m\u001b[1;33m,\u001b[0m \u001b[1;33m**\u001b[0m\u001b[0mfit_params\u001b[0m\u001b[1;33m)\u001b[0m\u001b[1;33m.\u001b[0m\u001b[0mtransform\u001b[0m\u001b[1;33m(\u001b[0m\u001b[0mX\u001b[0m\u001b[1;33m)\u001b[0m\u001b[1;33m\u001b[0m\u001b[1;33m\u001b[0m\u001b[0m\n\u001b[0m\u001b[0;32m    572\u001b[0m         \u001b[1;32melse\u001b[0m\u001b[1;33m:\u001b[0m\u001b[1;33m\u001b[0m\u001b[1;33m\u001b[0m\u001b[0m\n\u001b[0;32m    573\u001b[0m             \u001b[1;31m# fit method of arity 2 (supervised transformation)\u001b[0m\u001b[1;33m\u001b[0m\u001b[1;33m\u001b[0m\u001b[1;33m\u001b[0m\u001b[0m\n",
      "\u001b[1;32mC:\\Anaconda3\\lib\\site-packages\\sklearn\\impute\\_base.py\u001b[0m in \u001b[0;36mfit\u001b[1;34m(self, X, y)\u001b[0m\n\u001b[0;32m    266\u001b[0m         \u001b[0mself\u001b[0m \u001b[1;33m:\u001b[0m \u001b[0mSimpleImputer\u001b[0m\u001b[1;33m\u001b[0m\u001b[1;33m\u001b[0m\u001b[0m\n\u001b[0;32m    267\u001b[0m         \"\"\"\n\u001b[1;32m--> 268\u001b[1;33m         \u001b[0mX\u001b[0m \u001b[1;33m=\u001b[0m \u001b[0mself\u001b[0m\u001b[1;33m.\u001b[0m\u001b[0m_validate_input\u001b[0m\u001b[1;33m(\u001b[0m\u001b[0mX\u001b[0m\u001b[1;33m)\u001b[0m\u001b[1;33m\u001b[0m\u001b[1;33m\u001b[0m\u001b[0m\n\u001b[0m\u001b[0;32m    269\u001b[0m         \u001b[0msuper\u001b[0m\u001b[1;33m(\u001b[0m\u001b[1;33m)\u001b[0m\u001b[1;33m.\u001b[0m\u001b[0m_fit_indicator\u001b[0m\u001b[1;33m(\u001b[0m\u001b[0mX\u001b[0m\u001b[1;33m)\u001b[0m\u001b[1;33m\u001b[0m\u001b[1;33m\u001b[0m\u001b[0m\n\u001b[0;32m    270\u001b[0m \u001b[1;33m\u001b[0m\u001b[0m\n",
      "\u001b[1;32mC:\\Anaconda3\\lib\\site-packages\\sklearn\\impute\\_base.py\u001b[0m in \u001b[0;36m_validate_input\u001b[1;34m(self, X)\u001b[0m\n\u001b[0;32m    249\u001b[0m                              \u001b[1;34m\"categorical data represented either as an array \"\u001b[0m\u001b[1;33m\u001b[0m\u001b[1;33m\u001b[0m\u001b[0m\n\u001b[0;32m    250\u001b[0m                              \u001b[1;34m\"with integer dtype or an array of string values \"\u001b[0m\u001b[1;33m\u001b[0m\u001b[1;33m\u001b[0m\u001b[0m\n\u001b[1;32m--> 251\u001b[1;33m                              \"with an object dtype.\".format(X.dtype))\n\u001b[0m\u001b[0;32m    252\u001b[0m \u001b[1;33m\u001b[0m\u001b[0m\n\u001b[0;32m    253\u001b[0m         \u001b[1;32mreturn\u001b[0m \u001b[0mX\u001b[0m\u001b[1;33m\u001b[0m\u001b[1;33m\u001b[0m\u001b[0m\n",
      "\u001b[1;31mValueError\u001b[0m: SimpleImputer does not support data with dtype <U5. Please provide either a numeric array (with a floating point or integer dtype) or categorical data represented either as an array with integer dtype or an array of string values with an object dtype."
     ]
    }
   ],
   "source": [
    "#Univariate imputation with string values\n",
    "#first try\n",
    "x_string= np.array([[\"Mike\", 2], [np.nan, 3], [\"Peter\", 6],[\"Peter\", 6]])\n",
    "print(\"Original data: \\n\",x_string)\n",
    "\n",
    "#Average Imputation using strategy='most_frequent'\n"
   ]
  },
  {
   "cell_type": "markdown",
   "metadata": {},
   "source": [
    "Use the same array again (including a missing value in the second example) and apply a \"constant\" imputation this time an replace the MV with your favourite name!"
   ]
  },
  {
   "cell_type": "code",
   "execution_count": 7,
   "metadata": {},
   "outputs": [
    {
     "name": "stdout",
     "output_type": "stream",
     "text": [
      "Original data: \n",
      " [['Mike' 2]\n",
      " [nan 3]\n",
      " ['Peter' 6]\n",
      " ['Peter' 6]]\n",
      "Transformed data (constant value imputation): \n",
      " [['Mike' 2]\n",
      " ['Hugo' 3]\n",
      " ['Peter' 6]\n",
      " ['Peter' 6]]\n"
     ]
    }
   ],
   "source": []
  }
 ],
 "metadata": {
  "kernelspec": {
   "display_name": "Python 3 (ipykernel)",
   "language": "python",
   "name": "python3"
  },
  "language_info": {
   "codemirror_mode": {
    "name": "ipython",
    "version": 3
   },
   "file_extension": ".py",
   "mimetype": "text/x-python",
   "name": "python",
   "nbconvert_exporter": "python",
   "pygments_lexer": "ipython3",
   "version": "3.9.7"
  }
 },
 "nbformat": 4,
 "nbformat_minor": 4
}
