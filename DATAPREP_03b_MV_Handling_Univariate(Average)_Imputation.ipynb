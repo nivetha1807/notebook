{
 "cells": [
  {
   "cell_type": "markdown",
   "metadata": {},
   "source": [
    "Univariate feature imputation\n",
    "\n",
    "Imputes missing values in a feature using only non-missing values in that feature (and no other features)\n",
    "\n",
    "The SimpleImputer class provides basic strategies for imputing missing values. Missing values can be imputed with a provided constant value, or using the statistics (mean, median or most frequent) of each column in which the missing values are located. This class also allows for different missing values encodings."
   ]
  },
  {
   "cell_type": "code",
   "execution_count": 1,
   "metadata": {},
   "outputs": [
    {
     "name": "stdout",
     "output_type": "stream",
     "text": [
      "Original data: \n",
      " [[ 1.  2.]\n",
      " [nan  3.]\n",
      " [ 7.  6.]\n",
      " [ 1.  6.]]\n",
      "Transformed data (mean imputation): \n",
      " [[1. 2.]\n",
      " [3. 3.]\n",
      " [7. 6.]\n",
      " [1. 6.]]\n"
     ]
    }
   ],
   "source": [
    "import numpy as np\n",
    "from sklearn.impute import SimpleImputer\n",
    "\n",
    "x= np.array([[1, 2], [np.nan, 3], [7, 6],[1, 6]])\n",
    "print(\"Original data: \\n\",x)\n",
    "\n",
    "#Average Imputation using strategy='mean'\n",
    "imp = SimpleImputer(missing_values=np.nan, strategy='mean')\n",
    "transformed_x=imp.fit_transform(x)\n",
    "print(\"Transformed data (mean imputation): \\n\",transformed_x)"
   ]
  },
  {
   "cell_type": "code",
   "execution_count": 2,
   "metadata": {},
   "outputs": [
    {
     "name": "stdout",
     "output_type": "stream",
     "text": [
      "Original data: \n",
      " [[ 1.  2.]\n",
      " [nan  3.]\n",
      " [ 7.  6.]\n",
      " [ 1.  6.]]\n",
      "Transformed data (median imputation): \n",
      " [[1. 2.]\n",
      " [1. 3.]\n",
      " [7. 6.]\n",
      " [1. 6.]]\n"
     ]
    }
   ],
   "source": [
    "x= np.array([[1, 2], [np.nan, 3], [7, 6],[1, 6]])\n",
    "print(\"Original data: \\n\",x)\n",
    "\n",
    "#Average Imputation using strategy='median'\n",
    "imp = SimpleImputer(missing_values=np.nan, strategy='median')\n",
    "transformed_x=imp.fit_transform(x)\n",
    "print(\"Transformed data (median imputation): \\n\",transformed_x)"
   ]
  },
  {
   "cell_type": "code",
   "execution_count": 3,
   "metadata": {},
   "outputs": [
    {
     "name": "stdout",
     "output_type": "stream",
     "text": [
      "Original data: \n",
      " [[ 1.  2.]\n",
      " [nan  3.]\n",
      " [ 7.  6.]\n",
      " [ 1.  6.]]\n",
      "Transformed data (constant imputation): \n",
      " [[ 1.  2.]\n",
      " [17.  3.]\n",
      " [ 7.  6.]\n",
      " [ 1.  6.]]\n"
     ]
    }
   ],
   "source": [
    "x= np.array([[1, 2], [np.nan, 3], [7, 6],[1, 6]])\n",
    "print(\"Original data: \\n\",x)\n",
    "\n",
    "#Average Imputation using strategy='constant'\n",
    "imp = SimpleImputer(missing_values=np.nan, strategy='constant',fill_value=17)\n",
    "transformed_x=imp.fit_transform(x)\n",
    "print(\"Transformed data (constant imputation): \\n\",transformed_x)"
   ]
  },
  {
   "cell_type": "code",
   "execution_count": 4,
   "metadata": {},
   "outputs": [
    {
     "name": "stdout",
     "output_type": "stream",
     "text": [
      "Original data: \n",
      " [[ 1.  2.]\n",
      " [nan  3.]\n",
      " [ 7.  6.]\n",
      " [ 1.  6.]]\n",
      "Transformed data (mostfrequent value imputation): \n",
      " [[1. 2.]\n",
      " [1. 3.]\n",
      " [7. 6.]\n",
      " [1. 6.]]\n"
     ]
    }
   ],
   "source": [
    "x= np.array([[1, 2], [np.nan, 3], [7, 6],[1, 6]])\n",
    "print(\"Original data: \\n\",x)\n",
    "\n",
    "#Average Imputation using strategy='most_frequent'\n",
    "imp = SimpleImputer(missing_values=np.nan, strategy='most_frequent')\n",
    "transformed_x=imp.fit_transform(x)\n",
    "print(\"Transformed data (mostfrequent value imputation): \\n\",transformed_x)"
   ]
  },
  {
   "cell_type": "code",
   "execution_count": 5,
   "metadata": {},
   "outputs": [
    {
     "name": "stdout",
     "output_type": "stream",
     "text": [
      "Original data: \n",
      " [['Mike' '2']\n",
      " ['nan' '3']\n",
      " ['Peter' '6']\n",
      " ['Peter' '6']]\n"
     ]
    },
    {
     "ename": "ValueError",
     "evalue": "SimpleImputer does not support data with dtype <U32. Please provide either a numeric array (with a floating point or integer dtype) or categorical data represented either as an array with integer dtype or an array of string values with an object dtype.",
     "output_type": "error",
     "traceback": [
      "\u001b[1;31m---------------------------------------------------------------------------\u001b[0m",
      "\u001b[1;31mValueError\u001b[0m                                Traceback (most recent call last)",
      "\u001b[1;32mC:\\Users\\HENDRI~1\\AppData\\Local\\Temp/ipykernel_27976/3008438618.py\u001b[0m in \u001b[0;36m<module>\u001b[1;34m\u001b[0m\n\u001b[0;32m      6\u001b[0m \u001b[1;31m#Average Imputation using strategy='most_frequent'\u001b[0m\u001b[1;33m\u001b[0m\u001b[1;33m\u001b[0m\u001b[0m\n\u001b[0;32m      7\u001b[0m \u001b[0mimp\u001b[0m \u001b[1;33m=\u001b[0m \u001b[0mSimpleImputer\u001b[0m\u001b[1;33m(\u001b[0m\u001b[0mmissing_values\u001b[0m\u001b[1;33m=\u001b[0m\u001b[0mnp\u001b[0m\u001b[1;33m.\u001b[0m\u001b[0mnan\u001b[0m\u001b[1;33m,\u001b[0m \u001b[0mstrategy\u001b[0m\u001b[1;33m=\u001b[0m\u001b[1;34m'most_frequent'\u001b[0m\u001b[1;33m)\u001b[0m\u001b[1;33m\u001b[0m\u001b[1;33m\u001b[0m\u001b[0m\n\u001b[1;32m----> 8\u001b[1;33m \u001b[0mtransformed_x_string\u001b[0m\u001b[1;33m=\u001b[0m\u001b[0mimp\u001b[0m\u001b[1;33m.\u001b[0m\u001b[0mfit_transform\u001b[0m\u001b[1;33m(\u001b[0m\u001b[0mx_string\u001b[0m\u001b[1;33m)\u001b[0m\u001b[1;33m\u001b[0m\u001b[1;33m\u001b[0m\u001b[0m\n\u001b[0m\u001b[0;32m      9\u001b[0m \u001b[0mprint\u001b[0m\u001b[1;33m(\u001b[0m\u001b[1;34m\"Transformed data (mostfrequent value imputation): \\n\"\u001b[0m\u001b[1;33m,\u001b[0m\u001b[0mtransformed_x_string\u001b[0m\u001b[1;33m)\u001b[0m\u001b[1;33m\u001b[0m\u001b[1;33m\u001b[0m\u001b[0m\n",
      "\u001b[1;32mC:\\Anaconda3\\lib\\site-packages\\sklearn\\base.py\u001b[0m in \u001b[0;36mfit_transform\u001b[1;34m(self, X, y, **fit_params)\u001b[0m\n\u001b[0;32m    850\u001b[0m         \u001b[1;32mif\u001b[0m \u001b[0my\u001b[0m \u001b[1;32mis\u001b[0m \u001b[1;32mNone\u001b[0m\u001b[1;33m:\u001b[0m\u001b[1;33m\u001b[0m\u001b[1;33m\u001b[0m\u001b[0m\n\u001b[0;32m    851\u001b[0m             \u001b[1;31m# fit method of arity 1 (unsupervised transformation)\u001b[0m\u001b[1;33m\u001b[0m\u001b[1;33m\u001b[0m\u001b[0m\n\u001b[1;32m--> 852\u001b[1;33m             \u001b[1;32mreturn\u001b[0m \u001b[0mself\u001b[0m\u001b[1;33m.\u001b[0m\u001b[0mfit\u001b[0m\u001b[1;33m(\u001b[0m\u001b[0mX\u001b[0m\u001b[1;33m,\u001b[0m \u001b[1;33m**\u001b[0m\u001b[0mfit_params\u001b[0m\u001b[1;33m)\u001b[0m\u001b[1;33m.\u001b[0m\u001b[0mtransform\u001b[0m\u001b[1;33m(\u001b[0m\u001b[0mX\u001b[0m\u001b[1;33m)\u001b[0m\u001b[1;33m\u001b[0m\u001b[1;33m\u001b[0m\u001b[0m\n\u001b[0m\u001b[0;32m    853\u001b[0m         \u001b[1;32melse\u001b[0m\u001b[1;33m:\u001b[0m\u001b[1;33m\u001b[0m\u001b[1;33m\u001b[0m\u001b[0m\n\u001b[0;32m    854\u001b[0m             \u001b[1;31m# fit method of arity 2 (supervised transformation)\u001b[0m\u001b[1;33m\u001b[0m\u001b[1;33m\u001b[0m\u001b[0m\n",
      "\u001b[1;32mC:\\Anaconda3\\lib\\site-packages\\sklearn\\impute\\_base.py\u001b[0m in \u001b[0;36mfit\u001b[1;34m(self, X, y)\u001b[0m\n\u001b[0;32m    317\u001b[0m             \u001b[0mFitted\u001b[0m \u001b[0mestimator\u001b[0m\u001b[1;33m.\u001b[0m\u001b[1;33m\u001b[0m\u001b[1;33m\u001b[0m\u001b[0m\n\u001b[0;32m    318\u001b[0m         \"\"\"\n\u001b[1;32m--> 319\u001b[1;33m         \u001b[0mX\u001b[0m \u001b[1;33m=\u001b[0m \u001b[0mself\u001b[0m\u001b[1;33m.\u001b[0m\u001b[0m_validate_input\u001b[0m\u001b[1;33m(\u001b[0m\u001b[0mX\u001b[0m\u001b[1;33m,\u001b[0m \u001b[0min_fit\u001b[0m\u001b[1;33m=\u001b[0m\u001b[1;32mTrue\u001b[0m\u001b[1;33m)\u001b[0m\u001b[1;33m\u001b[0m\u001b[1;33m\u001b[0m\u001b[0m\n\u001b[0m\u001b[0;32m    320\u001b[0m \u001b[1;33m\u001b[0m\u001b[0m\n\u001b[0;32m    321\u001b[0m         \u001b[1;31m# default fill_value is 0 for numerical input and \"missing_value\"\u001b[0m\u001b[1;33m\u001b[0m\u001b[1;33m\u001b[0m\u001b[0m\n",
      "\u001b[1;32mC:\\Anaconda3\\lib\\site-packages\\sklearn\\impute\\_base.py\u001b[0m in \u001b[0;36m_validate_input\u001b[1;34m(self, X, in_fit)\u001b[0m\n\u001b[0;32m    289\u001b[0m         \u001b[0m_check_inputs_dtype\u001b[0m\u001b[1;33m(\u001b[0m\u001b[0mX\u001b[0m\u001b[1;33m,\u001b[0m \u001b[0mself\u001b[0m\u001b[1;33m.\u001b[0m\u001b[0mmissing_values\u001b[0m\u001b[1;33m)\u001b[0m\u001b[1;33m\u001b[0m\u001b[1;33m\u001b[0m\u001b[0m\n\u001b[0;32m    290\u001b[0m         \u001b[1;32mif\u001b[0m \u001b[0mX\u001b[0m\u001b[1;33m.\u001b[0m\u001b[0mdtype\u001b[0m\u001b[1;33m.\u001b[0m\u001b[0mkind\u001b[0m \u001b[1;32mnot\u001b[0m \u001b[1;32min\u001b[0m \u001b[1;33m(\u001b[0m\u001b[1;34m\"i\"\u001b[0m\u001b[1;33m,\u001b[0m \u001b[1;34m\"u\"\u001b[0m\u001b[1;33m,\u001b[0m \u001b[1;34m\"f\"\u001b[0m\u001b[1;33m,\u001b[0m \u001b[1;34m\"O\"\u001b[0m\u001b[1;33m)\u001b[0m\u001b[1;33m:\u001b[0m\u001b[1;33m\u001b[0m\u001b[1;33m\u001b[0m\u001b[0m\n\u001b[1;32m--> 291\u001b[1;33m             raise ValueError(\n\u001b[0m\u001b[0;32m    292\u001b[0m                 \u001b[1;34m\"SimpleImputer does not support data with dtype \"\u001b[0m\u001b[1;33m\u001b[0m\u001b[1;33m\u001b[0m\u001b[0m\n\u001b[0;32m    293\u001b[0m                 \u001b[1;34m\"{0}. Please provide either a numeric array (with\"\u001b[0m\u001b[1;33m\u001b[0m\u001b[1;33m\u001b[0m\u001b[0m\n",
      "\u001b[1;31mValueError\u001b[0m: SimpleImputer does not support data with dtype <U32. Please provide either a numeric array (with a floating point or integer dtype) or categorical data represented either as an array with integer dtype or an array of string values with an object dtype."
     ]
    }
   ],
   "source": [
    "#Univariate imputation with nominal values\n",
    "#first try\n",
    "x_string= np.array([[\"Mike\", 2], [np.nan, 3], [\"Peter\", 6],[\"Peter\", 6]])\n",
    "print(\"Original data: \\n\",x_string)\n",
    "\n",
    "#Average Imputation using strategy='most_frequent'\n",
    "imp = SimpleImputer(missing_values=np.nan, strategy='most_frequent')\n",
    "transformed_x_string=imp.fit_transform(x_string)\n",
    "print(\"Transformed data (mostfrequent value imputation): \\n\",transformed_x_string)"
   ]
  },
  {
   "cell_type": "code",
   "execution_count": 6,
   "metadata": {},
   "outputs": [
    {
     "name": "stdout",
     "output_type": "stream",
     "text": [
      "Original data: \n",
      " [['Mike' 2]\n",
      " [nan 3]\n",
      " ['Peter' 6]\n",
      " ['Peter' 6]]\n",
      "Transformed data (most frequent value imputation): \n",
      " [['Mike' 2]\n",
      " ['Peter' 3]\n",
      " ['Peter' 6]\n",
      " ['Peter' 6]]\n",
      "Int values keep their type:  3  + 4 =  7\n"
     ]
    }
   ],
   "source": [
    "#Univariate imputation with string values\n",
    "#second try:  dtype=\"object\"\n",
    "x_string= np.array([[\"Mike\", 2], [np.nan, 3], [\"Peter\", 6],[\"Peter\", 6]], dtype=\"object\")\n",
    "print(\"Original data: \\n\",x_string)\n",
    "\n",
    "#Average Imputation using strategy='most_frequent'\n",
    "imp = SimpleImputer(missing_values=np.nan, strategy='most_frequent')\n",
    "transformed_x_string=imp.fit_transform(x_string)\n",
    "print(\"Transformed data (most frequent value imputation): \\n\",transformed_x_string)\n",
    "\n",
    "print(\"Int values keep their type: \",transformed_x_string[1,1],\" + 4 = \",transformed_x_string[1,1]+4)"
   ]
  },
  {
   "cell_type": "code",
   "execution_count": 7,
   "metadata": {},
   "outputs": [
    {
     "name": "stdout",
     "output_type": "stream",
     "text": [
      "Original data: \n",
      " [['Mike' 2]\n",
      " [nan 3]\n",
      " ['Peter' 6]\n",
      " ['Peter' 6]]\n",
      "Transformed data (constant value imputation): \n",
      " [['Mike' 2]\n",
      " ['Hugo' 3]\n",
      " ['Peter' 6]\n",
      " ['Peter' 6]]\n"
     ]
    }
   ],
   "source": [
    "#Univariate imputation with nominal values\n",
    "#Similarily with constant values\n",
    "x_string= np.array([[\"Mike\", 2], [np.nan, 3], [\"Peter\", 6],[\"Peter\", 6]], dtype=\"object\")\n",
    "print(\"Original data: \\n\",x_string)\n",
    "\n",
    "#Average Imputation using strategy='constant'\n",
    "imp = SimpleImputer(missing_values=np.nan, strategy='constant',fill_value=\"Hugo\")\n",
    "transformed_x_string=imp.fit_transform(x_string)\n",
    "print(\"Transformed data (constant value imputation): \\n\",transformed_x_string)"
   ]
  }
 ],
 "metadata": {
  "kernelspec": {
   "display_name": "Python 3 (ipykernel)",
   "language": "python",
   "name": "python3"
  },
  "language_info": {
   "codemirror_mode": {
    "name": "ipython",
    "version": 3
   },
   "file_extension": ".py",
   "mimetype": "text/x-python",
   "name": "python",
   "nbconvert_exporter": "python",
   "pygments_lexer": "ipython3",
   "version": "3.9.7"
  }
 },
 "nbformat": 4,
 "nbformat_minor": 4
}
